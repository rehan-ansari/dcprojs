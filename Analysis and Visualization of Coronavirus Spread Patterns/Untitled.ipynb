{
 "cells": [
  {
   "cell_type": "code",
   "execution_count": null,
   "metadata": {},
   "outputs": [],
   "source": [
    "library(readr)\n",
    "library(ggplot2)\n",
    "library(dplyr)\n",
    "\n",
    "confirmed_cases_worldwide <- read_csv(\"datasets/confirmed_cases_worldwide.csv\")\n",
    "\n",
    "confirmed_cases_worldwide"
   ]
  },
  {
   "cell_type": "code",
   "execution_count": null,
   "metadata": {},
   "outputs": [],
   "source": [
    "\n",
    "ggplot(confirmed_cases_worldwide, aes(date, cum_cases)) +\n",
    "  geom_line() +\n",
    "  ylab(\"Cumulative confirmed cases\")"
   ]
  },
  {
   "cell_type": "code",
   "execution_count": null,
   "metadata": {},
   "outputs": [],
   "source": [
    "confirmed_cases_china_vs_world <- read_csv(\"datasets/confirmed_cases_china_vs_world.csv\")\n",
    "\n",
    "glimpse(confirmed_cases_china_vs_world)\n",
    "\n",
    "\n",
    "plt_cum_confirmed_cases_china_vs_world <- ggplot(confirmed_cases_china_vs_world) +\n",
    "  geom_line(aes(date, cum_cases, group = is_china, color = is_china)) +\n",
    "  ylab(\"Cumulative confirmed cases\")\n",
    "\n",
    "plt_cum_confirmed_cases_china_vs_world"
   ]
  },
  {
   "cell_type": "code",
   "execution_count": null,
   "metadata": {},
   "outputs": [],
   "source": [
    "who_events <- tribble(\n",
    "  ~ date, ~ event,\n",
    "  \"2020-01-30\", \"Global health\\nemergency declared\",\n",
    "  \"2020-03-11\", \"Pandemic\\ndeclared\",\n",
    "  \"2020-02-13\", \"China reporting\\nchange\"\n",
    ") %>%\n",
    "  mutate(date = as.Date(date))\n",
    "\n",
    "\n",
    "plt_cum_confirmed_cases_china_vs_world +\n",
    "  geom_vline(aes(xintercept = date), data = who_events, linetype = \"dashed\") +\n",
    "  geom_text(aes(date, label = event), data = who_events, y = 1e5)"
   ]
  },
  {
   "cell_type": "code",
   "execution_count": null,
   "metadata": {},
   "outputs": [],
   "source": [
    "china_after_feb15 <- confirmed_cases_china_vs_world %>%\n",
    "  filter(is_china == \"China\", date >= \"2020-02-15\")\n",
    "\n",
    "\n",
    "ggplot(china_after_feb15, aes(date, cum_cases)) +\n",
    "  geom_line() +\n",
    "  geom_smooth(method = \"lm\", se = FALSE) +\n",
    "  ylab(\"Cumulative confirmed cases\")"
   ]
  },
  {
   "cell_type": "code",
   "execution_count": null,
   "metadata": {},
   "outputs": [],
   "source": [
    "not_china <- confirmed_cases_china_vs_world %>%\n",
    "  filter(is_china == \"Not China\")\n",
    "plt_not_china_trend_lin <- ggplot(not_china, aes(date, cum_cases)) +\n",
    "  geom_line() +\n",
    "  geom_smooth(method = \"lm\", se = FALSE) +\n",
    "  ylab(\"Cumulative confirmed cases\")\n",
    "\n",
    "plt_not_china_trend_lin \n"
   ]
  },
  {
   "cell_type": "code",
   "execution_count": null,
   "metadata": {},
   "outputs": [],
   "source": [
    "plt_not_china_trend_lin + \n",
    "  scale_y_log10()"
   ]
  },
  {
   "cell_type": "code",
   "execution_count": null,
   "metadata": {},
   "outputs": [],
   "source": [
    "confirmed_cases_by_country <- read_csv(\"datasets/confirmed_cases_by_country.csv\")\n",
    "glimpse(confirmed_cases_by_country)\n",
    "\n",
    "top_countries_by_total_cases <- confirmed_cases_by_country %>%\n",
    "top_countries_by_total_cases <- confirmed_cases_by_country %>%\n",
    "  group_by(country) %>%\n",
    "  summarize(total_cases = max(cum_cases)) %>%\n",
    "  top_n(7, total_cases)\n",
    "\n",
    "top_countries_by_total_cases"
   ]
  },
  {
   "cell_type": "code",
   "execution_count": null,
   "metadata": {},
   "outputs": [],
   "source": [
    "confirmed_cases_top7_outside_china <- read_csv(\"datasets/confirmed_cases_top7_outside_china.csv\")\n",
    "\n",
    "\n",
    "glimpse(confirmed_cases_top7_outside_china)\n",
    "\n",
    "ggplot(confirmed_cases_top7_outside_china, aes(date, cum_cases, color = country, group = country)) +\n",
    "  geom_line() +\n",
    "  ylab(\"Cumulative confirmed cases\")"
   ]
  }
 ],
 "metadata": {
  "kernelspec": {
   "display_name": "Python 3",
   "language": "python",
   "name": "python3"
  },
  "language_info": {
   "codemirror_mode": {
    "name": "ipython",
    "version": 3
   },
   "file_extension": ".py",
   "mimetype": "text/x-python",
   "name": "python",
   "nbconvert_exporter": "python",
   "pygments_lexer": "ipython3",
   "version": "3.7.6"
  }
 },
 "nbformat": 4,
 "nbformat_minor": 4
}
